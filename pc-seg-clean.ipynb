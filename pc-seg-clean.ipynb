{
 "cells": [
  {
   "cell_type": "code",
   "execution_count": 1,
   "metadata": {},
   "outputs": [],
   "source": [
    "%load_ext autoreload\n",
    "%autoreload 2\n",
    "import sys\n",
    "sys.path.append('../Hierarchical-Localization')\n",
    "\n",
    "import math\n",
    "from pathlib import Path\n",
    "from hloc import extract_features, match_features, reconstruction, visualization, pairs_from_retrieval\n",
    "from hloc.utils import read_write_model\n",
    "from hloc.utils.io import read_image\n",
    "\n",
    "import pycolmap\n",
    "import numpy as np\n",
    "from sklearn.neighbors import NearestNeighbors\n",
    "import pickle\n",
    "from PIL import Image\n",
    "from scipy.stats import norm"
   ]
  },
  {
   "cell_type": "markdown",
   "metadata": {},
   "source": [
    "## Setup"
   ]
  },
  {
   "cell_type": "code",
   "execution_count": 2,
   "metadata": {},
   "outputs": [],
   "source": [
    "dataset = 'South-Building'\n",
    "images_path = Path(f'datasets/{dataset}/images/')\n",
    "masks_path = Path(f'datasets/{dataset}/masks/')\n",
    "#ground_truth_path = f'datasets/{dataset}/ground_truth.ply'\n",
    "\n",
    "outputs_sfm = Path(f'outputs/{dataset}/sfm/')\n",
    "outputs_seg = Path(f'outputs/{dataset}/segmentation/')\n",
    "sfm_pairs = outputs_sfm / 'pairs-netvlad.txt'\n",
    "sfm_dir = outputs_sfm / 'sfm_superpoint+superglue'\n",
    "\n",
    "retrieval_conf = extract_features.confs['netvlad']\n",
    "feature_conf = extract_features.confs['superpoint_aachen']\n",
    "matcher_conf = match_features.confs['superglue']"
   ]
  },
  {
   "cell_type": "markdown",
   "metadata": {},
   "source": [
    "## Run SfM\n",
    "[Skip](#loading_images_and_points) this step if you already have the points3D.bin and images.txt"
   ]
  },
  {
   "cell_type": "markdown",
   "metadata": {},
   "source": [
    "### Find image pairs via image retrieval"
   ]
  },
  {
   "cell_type": "code",
   "execution_count": null,
   "metadata": {},
   "outputs": [],
   "source": [
    "retrieval_path = extract_features.main(retrieval_conf, images_path, outputs_sfm)\n",
    "pairs_from_retrieval.main(retrieval_path, sfm_pairs, num_matched=5)"
   ]
  },
  {
   "cell_type": "markdown",
   "metadata": {},
   "source": [
    "### Extract and match local features"
   ]
  },
  {
   "cell_type": "code",
   "execution_count": null,
   "metadata": {},
   "outputs": [],
   "source": [
    "feature_path = extract_features.main(feature_conf, images_path, outputs_sfm)\n",
    "match_path = match_features.main(matcher_conf, sfm_pairs, feature_conf['output'], outputs_sfm)"
   ]
  },
  {
   "cell_type": "markdown",
   "metadata": {},
   "source": [
    "### 3D reconstruction"
   ]
  },
  {
   "cell_type": "code",
   "execution_count": null,
   "metadata": {},
   "outputs": [],
   "source": [
    "model = reconstruction.main(sfm_dir, images_path, sfm_pairs, feature_path, match_path)\n",
    "# convert colmap images to hloc images (they are slightly different, this is most likely a bug, so here is the workaround)\n",
    "ims={}\n",
    "for image_id in model.images:\n",
    "    im = model.images[image_id]\n",
    "    ims[image_id] = read_write_model.BaseImage(im.image_id, \n",
    "                                               im.qvec, \n",
    "                                               im.tvec, \n",
    "                                               im.camera_id, \n",
    "                                               im.name, \n",
    "                                               [point2D.xy for point2D in im.points2D], \n",
    "                                               [point2D.point3D_id for point2D in im.points2D])\n",
    "\n",
    "read_write_model.write_images_text(ims, sfm_dir/\"images.txt\")"
   ]
  },
  {
   "cell_type": "markdown",
   "metadata": {},
   "source": [
    "## Loading the images and points\n",
    "<a id='loading_images_and_points'></a>"
   ]
  },
  {
   "cell_type": "code",
   "execution_count": 3,
   "metadata": {},
   "outputs": [],
   "source": [
    "images = read_write_model.read_images_text(sfm_dir/\"images.txt\")\n",
    "points3D = read_write_model.read_points3D_binary(sfm_dir/\"points3D.bin\")\n",
    "#read_write_model.write_points3D_text(points3D, 'datasets/South-Building/p3D.txt')"
   ]
  },
  {
   "cell_type": "markdown",
   "metadata": {},
   "source": [
    "## Pointcloud Segmentation\n"
   ]
  },
  {
   "cell_type": "markdown",
   "metadata": {},
   "source": [
    "### scaling\n"
   ]
  },
  {
   "cell_type": "code",
   "execution_count": 4,
   "metadata": {},
   "outputs": [],
   "source": [
    "im = Image.open(images_path/images[1].name)\n",
    "image_resolution = im.size\n",
    "\n",
    "pkl_resolution = (512, 384)\n",
    "def get_pkl_coordinates(image_coordinates):\n",
    "    x = int(round((image_coordinates[0]/image_resolution[0])*pkl_resolution[0]))\n",
    "    y = int(round((image_coordinates[1]/image_resolution[1])*pkl_resolution[1]))\n",
    "    return (x, y)"
   ]
  },
  {
   "cell_type": "markdown",
   "metadata": {},
   "source": [
    "### get 3D points and corresponding lables with certainty\n"
   ]
  },
  {
   "cell_type": "code",
   "execution_count": 5,
   "metadata": {},
   "outputs": [
    {
     "name": "stdout",
     "output_type": "stream",
     "text": [
      "getting points and corresponding mask colors...\n",
      "normalizing...\n",
      "done\n"
     ]
    }
   ],
   "source": [
    "point3D_masks = {} # dict of all points3D and their corresponding mask colors from all images\n",
    "\n",
    "\n",
    "def softmax(x):\n",
    "    return np.exp(x) / np.sum(np.exp(x))\n",
    "\n",
    "def normalize(x):\n",
    "    s = sum(x)\n",
    "    return [i/s for i in x]\n",
    "print(\"getting points and corresponding mask colors...\")\n",
    "for image_id in images:\n",
    "    image = images[image_id]\n",
    "    data = None\n",
    "    with open(masks_path/Path(image.name.replace(\".JPG\", \".pkl\")), 'rb') as f:\n",
    "        data = pickle.load(f)[0]\n",
    "\n",
    "    no_invalid_points = 0\n",
    "    no_valid_points = 0\n",
    "    # iterate over points2D in image\n",
    "    for i, point2D in enumerate(image.xys):\n",
    "        # get certainties\n",
    "        pkl_x, pkl_y = get_pkl_coordinates((int(point2D[1]), int(point2D[0])))\n",
    "        certainties_raw = data[pkl_x][pkl_y]\n",
    "        certainties_raw[3] = min(certainties_raw) # make sky lowest certainty\n",
    "        certainties = softmax(certainties_raw)\n",
    "        # add certainties to corresponding point3D\n",
    "        point3D_id = image.point3D_ids[i]\n",
    "        # points with this ID are invalid\n",
    "        if point3D_id == float(\"1.8446744073709552e+19\"):\n",
    "            no_invalid_points += 1\n",
    "            continue\n",
    "        else:\n",
    "            no_valid_points += 1\n",
    "        if not point3D_id in point3D_masks:\n",
    "            point3D_masks[point3D_id] = certainties\n",
    "        else:\n",
    "            point3D_masks[point3D_id] = [sum(x) for x in zip(point3D_masks[point3D_id], certainties)]\n",
    "    #print(f\"invalid: {no_invalid_points} valid: {no_valid_points}\")\n",
    "\n",
    "# normalize\n",
    "print(\"normalizing...\")\n",
    "for point3D_id in point3D_masks:\n",
    "    point3D_masks[point3D_id]=normalize(point3D_masks[point3D_id])\n",
    "\n",
    "print(\"done\")"
   ]
  },
  {
   "cell_type": "markdown",
   "metadata": {},
   "source": [
    "### knn"
   ]
  },
  {
   "cell_type": "code",
   "execution_count": 6,
   "metadata": {},
   "outputs": [],
   "source": [
    "def knn(k, weight=None, absolute=False):\n",
    "    print(f\"running knn with k={k}\")\n",
    "    # the neighbor furthest away will be weighted as 0 so we have to increase k by 1\n",
    "    if weight==\"linear\":\n",
    "        k+=1\n",
    "    mask_colors = [[0, 0, 0], [120, 120, 120], [180, 120, 120], [6, 230, 230], [80, 50, 50], [4, 200, 3], [120, 120, 80], [140, 140, 140], [204, 5, 255], [230, 230, 230], [4, 250, 7], [224, 5, 255], [235, 255, 7], [150, 5, 61], [120, 120, 70], [8, 255, 51], [255, 6, 82], [143, 255, 140], [204, 255, 4], [255, 51, 7], [204, 70, 3], [0, 102, 200], [61, 230, 250], [255, 6, 51], [11, 102, 255], [255, 7, 71], [255, 9, 224], [9, 7, 230], [220, 220, 220], [255, 9, 92], [112, 9, 255], [8, 255, 214], [7, 255, 224], [255, 184, 6], [10, 255, 71], [255, 41, 10], [7, 255, 255], [224, 255, 8], [102, 8, 255], [255, 61, 6], [255, 194, 7], [255, 122, 8], [0, 255, 20], [255, 8, 41], [255, 5, 153], [6, 51, 255], [235, 12, 255], [160, 150, 20], [0, 163, 255], [140, 140, 140], [250, 10, 15], [20, 255, 0], [31, 255, 0], [255, 31, 0], [255, 224, 0], [153, 255, 0], [0, 0, 255], [255, 71, 0], [0, 235, 255], [0, 173, 255], [31, 0, 255], [11, 200, 200], [255, 82, 0], [0, 255, 245], [0, 61, 255], [0, 255, 112], [0, 255, 133], [255, 0, 0], [255, 163, 0], [255, 102, 0], [194, 255, 0], [0, 143, 255], [51, 255, 0], [0, 82, 255], [0, 255, 41], [0, 255, 173], [10, 0, 255], [173, 255, 0], [0, 255, 153], [255, 92, 0], [255, 0, 255], [255, 0, 245], [255, 0, 102], [255, 173, 0], [255, 0, 20], [255, 184, 184], [0, 31, 255], [0, 255, 61], [0, 71, 255], [255, 0, 204], [0, 255, 194], [0, 255, 82], [0, 10, 255], [0, 112, 255], [51, 0, 255], [0, 194, 255], [0, 122, 255], [0, 255, 163], [255, 153, 0], [0, 255, 10], [255, 112, 0], [143, 255, 0], [82, 0, 255], [163, 255, 0], [255, 235, 0], [8, 184, 170], [133, 0, 255], [0, 255, 92], [184, 0, 255], [255, 0, 31], [0, 184, 255], [0, 214, 255], [255, 0, 112], [92, 255, 0], [0, 224, 255], [112, 224, 255], [70, 184, 160], [163, 0, 255], [153, 0, 255], [71, 255, 0], [255, 0, 163], [255, 204, 0], [255, 0, 143], [0, 255, 235], [133, 255, 0], [255, 0, 235], [245, 0, 255], [255, 0, 122], [255, 245, 0], [10, 190, 212], [214, 255, 0], [0, 204, 255], [20, 0, 255], [255, 255, 0], [0, 153, 255], [0, 41, 255], [0, 255, 204], [41, 0, 255], [41, 255, 0], [173, 0, 255], [0, 245, 255], [71, 0, 255], [122, 0, 255], [0, 255, 184], [0, 92, 255], [184, 255, 0], [0, 133, 255], [255, 214, 0], [25, 194, 194], [102, 255, 0], [92, 0, 255]]\n",
    "    points3D_segmented = {} # dict of points3D (segmentational rgb applied)\n",
    "    index_dict = {}\n",
    "    id_dict = {}\n",
    "    \n",
    "\n",
    "    # knn on 3D point cloud\n",
    "    number_of_points = len(points3D.items())\n",
    "    \n",
    "    coordinates = np.zeros(shape=(number_of_points,3))\n",
    "    # putting all 3D coordinates into the array\n",
    "    for i, point3D_id in enumerate(points3D):\n",
    "        coordinates[i] = points3D[point3D_id].xyz\n",
    "        # making sure we can convert between point IDs and indices in the array later on\n",
    "        index_dict[point3D_id] = i\n",
    "        id_dict[i] = point3D_id\n",
    "\n",
    "    # running knn\n",
    "    nbrs = NearestNeighbors(n_neighbors=k, algorithm='ball_tree').fit(coordinates)\n",
    "    distances, indices = nbrs.kneighbors(coordinates)\n",
    "    \n",
    "    # creating segmented pointcloud\n",
    "    print(\"creating segmented pointcloud...\")\n",
    "    for point3D_id in point3D_masks:\n",
    "        \n",
    "        index_in_array = index_dict[point3D_id]\n",
    "        neighbor3D_idxs = indices[index_in_array]\n",
    "        neighbor3D_distances = distances[index_in_array]\n",
    "\n",
    "        #print(np.argmax(point3D_masks[point3D_id]))\n",
    "\n",
    "        certainties = [0]*len(mask_colors)\n",
    "        if weight==\"linear\" or weight==\"normal\":\n",
    "            dist_max = np.amax(neighbor3D_distances)\n",
    "        \n",
    "        # iterate over all k neighbors of point (including itself) and add certainties\n",
    "        for neighbor3D_idx, neighbor3D_dist in zip(neighbor3D_idxs, neighbor3D_distances):\n",
    "            certainties_neighbor = point3D_masks[id_dict[neighbor3D_idx]]\n",
    "            if not absolute and weight==\"linear\":\n",
    "                factor = (dist_max-neighbor3D_dist)/dist_max\n",
    "                certainties_neighbor = (np.array(certainties_neighbor)*factor).tolist()\n",
    "            #elif weight==\"normal\":\n",
    "            if absolute:\n",
    "                dist_max = 0.5\n",
    "                factor = 1\n",
    "                #linear\n",
    "                if weight==\"linear\":\n",
    "                    factor = (dist_max-neighbor3D_dist)/dist_max\n",
    "                    factor = factor * (factor>0)\n",
    "                #print(factor)\n",
    "                #normal\n",
    "                elif weight==\"normal\":\n",
    "                    factor = norm.pdf(neighbor3D_dist,0,dist_max*0.4)*dist_max\n",
    "                #1/(1+d²)\n",
    "                elif weight==\"d_square\":\n",
    "                    second_factor = 5\n",
    "                    factor = 1/(1+(neighbor3D_dist*second_factor)**2)\n",
    "                #print(factor)\n",
    "                certainties_neighbor = (np.array(certainties_neighbor)*factor).tolist()\n",
    "                \n",
    "            \n",
    "            certainties = [sum(x) for x in zip(certainties_neighbor, certainties)]\n",
    "\n",
    "        \n",
    "        # determine color with highest certainty\n",
    "        mask_color = np.argmax(certainties)\n",
    "        rgb = mask_colors[mask_color]\n",
    "        #create point3D\n",
    "        point3D = points3D[point3D_id]\n",
    "        # cutting the pointcloud for fun\n",
    "        #if point3D.xyz[2] > 0:\n",
    "        #    continue\n",
    "        points3D_segmented[point3D_id] = read_write_model.Point3D(id=point3D_id, \n",
    "                                                                  xyz=point3D.xyz, \n",
    "                                                                  rgb=rgb, \n",
    "                                                                  error=point3D.error, \n",
    "                                                                  image_ids=[], \n",
    "                                                                  point2D_idxs=[])\n",
    "\n",
    "    # write file\n",
    "    file_name = f\"{dataset}_k{k}\"\n",
    "    if weight:\n",
    "        file_name += \"_euc\"\n",
    "    \n",
    "    # create path if not exists\n",
    "    Path(outputs_seg).mkdir(parents=True, exist_ok=True)\n",
    "    read_write_model.write_points3D_text(points3D_segmented, outputs_seg/Path(file_name + \".txt\"))\n",
    "    print(f\"file '{file_name}' written\")\n",
    "    \n",
    "    # adjust output (so we can open it in meshlab)\n",
    "    \n",
    "    #file_name = \"South-Building_k5\"\n",
    "    count = 0\n",
    "    with open(outputs_seg/Path(file_name + \".txt\")) as fp:\n",
    "        Lines = fp.readlines()\n",
    "        for line in Lines:\n",
    "            Lines[count] = Lines[count].split(\" \", 1)[1].rsplit(' ', 2)[0] + \"\\n\"\n",
    "            if count < 3:\n",
    "                Lines[count] = \"#\\n\"\n",
    "            count += 1\n",
    "\n",
    "        with open(outputs_seg/Path(file_name + \".txt\"), 'w') as fp:\n",
    "            fp.writelines(Lines)\n",
    "    \n",
    "    return points3D_segmented\n",
    "    "
   ]
  },
  {
   "cell_type": "markdown",
   "metadata": {},
   "source": [
    "## Evaluation"
   ]
  },
  {
   "cell_type": "code",
   "execution_count": 7,
   "metadata": {},
   "outputs": [
    {
     "data": {
      "text/plain": [
       "'\\n# adding stuff to the ground truth file so we can use read_write_model.read_points3D_text to open it\\ncount = 0\\nwith open(\\'datasets/South-Building/ground_truth.txt\\') as fp:\\n    Lines = fp.readlines()\\n    for line in Lines:\\n        Lines[count] = f\"{count} {Lines[count][:-1]} 0.0\\n\"\\n        count += 1\\n\\n    with open(\\'datasets/South-Building/ground_truth_adjusted.txt\\', \\'w\\') as fp:\\n        fp.writelines(Lines)\\n'"
      ]
     },
     "execution_count": 7,
     "metadata": {},
     "output_type": "execute_result"
    }
   ],
   "source": [
    "'''\n",
    "# adding stuff to the ground truth file so we can use read_write_model.read_points3D_text to open it\n",
    "count = 0\n",
    "with open('datasets/South-Building/ground_truth.txt') as fp:\n",
    "    Lines = fp.readlines()\n",
    "    for line in Lines:\n",
    "        Lines[count] = f\"{count} {Lines[count][:-1]} 0.0\\n\"\n",
    "        count += 1\n",
    "\n",
    "    with open('datasets/South-Building/ground_truth_adjusted.txt', 'w') as fp:\n",
    "        fp.writelines(Lines)\n",
    "'''"
   ]
  },
  {
   "cell_type": "markdown",
   "metadata": {},
   "source": [
    "### Load Ground Truth"
   ]
  },
  {
   "cell_type": "code",
   "execution_count": 8,
   "metadata": {},
   "outputs": [],
   "source": [
    "ground_truth = read_write_model.read_points3D_text('datasets/South-Building/ground_truth_adjusted.txt')"
   ]
  },
  {
   "cell_type": "markdown",
   "metadata": {},
   "source": [
    "Get dictionary containing point3D IDs as keys and the corresponding colors in the ground truth as values"
   ]
  },
  {
   "cell_type": "code",
   "execution_count": 9,
   "metadata": {},
   "outputs": [],
   "source": [
    "def get_color_dict(points_1, points_2):\n",
    "    # returns a dict where the keys are the point IDs in points_1 \n",
    "    # and the values are the colors of the respective points in points_2\n",
    "    index_list = {}\n",
    "    id_list = {}\n",
    "    color_dict = {}\n",
    "    number_of_points_1 = len(points_1.items())\n",
    "    number_of_points_2 = len(points_2.items())\n",
    "    \n",
    "    if number_of_points_1 != number_of_points_2:\n",
    "        return\n",
    "    \n",
    "    coordinates = np.zeros(shape=(number_of_points_1*2,3))\n",
    "    for i, id in enumerate(points_1):\n",
    "        coordinates[i] = points_1[id].xyz\n",
    "        index_list[id] = i\n",
    "        id_list[i] = id\n",
    "        \n",
    "    for i, id in enumerate(points_2):\n",
    "        coordinates[i+number_of_points_1] = points_2[id].xyz\n",
    "        index_list[id] = i+number_of_points_1\n",
    "        id_list[i+number_of_points_1] = id\n",
    "    \n",
    "    #print(coordinates)\n",
    "\n",
    "    nbrs = NearestNeighbors(n_neighbors=2, algorithm='ball_tree').fit(coordinates)\n",
    "    indices = nbrs.kneighbors(coordinates)[1]\n",
    "    # we only need the first half\n",
    "    indices = np.split(indices, 2)[0]\n",
    "    \n",
    "    for j in indices:\n",
    "        if not ((j[0]<37173 and j[1]>=37173) or (j[1]<37173 and j[0]>=37173)):\n",
    "            print(\"error\")\n",
    "        # j[0] is index of point from points_1 cloud in array\n",
    "        # id the point had in points_1:\n",
    "        point_1_id = id_list[j[0]]\n",
    "        # id the point had in points_2:\n",
    "        point_2_id = id_list[j[1]]\n",
    "        if j[0]<j[1]:\n",
    "            # add to color list:\n",
    "            color_dict[point_1_id] = points_2[point_2_id].rgb\n",
    "        else:\n",
    "            # add to color list:\n",
    "            color_dict[point_2_id] = points_2[point_1_id].rgb\n",
    "        #print(id_list[j[0]])\n",
    "        #print(j)\n",
    "    \n",
    "    return color_dict\n",
    "\n",
    "# this is what we need!\n",
    "color_dict = get_color_dict(points3D, ground_truth)"
   ]
  },
  {
   "cell_type": "markdown",
   "metadata": {},
   "source": [
    "You can [skip](#check_accuracy) this step. It is optional to test if everything went well"
   ]
  },
  {
   "cell_type": "code",
   "execution_count": null,
   "metadata": {},
   "outputs": [],
   "source": [
    "# using the color list to create a pointcloud\n",
    "# if everthing went well, this pointcloud will be identical with the ground truth we loaded\n",
    "new_ground_truth = {}\n",
    "for point3D_id in points3D:\n",
    "    point = points3D[point3D_id]\n",
    "    new_ground_truth[point3D_id] = read_write_model.Point3D(id=point3D_id, \n",
    "                                                                  xyz=point.xyz, \n",
    "                                                                  rgb=color_dict[point3D_id], \n",
    "                                                                  error=point.error, \n",
    "                                                                  image_ids=[], \n",
    "                                                                  point2D_idxs=[])\n",
    "\n",
    "read_write_model.write_points3D_text(new_ground_truth, \"datasets/South-Building/new_ground_truth.txt\")\n",
    "# adjust output (so we can open it in meshlab)\n",
    "    \n",
    "#file_name = \"South-Building_k5\"\n",
    "count = 0\n",
    "with open(\"datasets/South-Building/new_ground_truth.txt\") as fp:\n",
    "    Lines = fp.readlines()\n",
    "    for line in Lines:\n",
    "        Lines[count] = Lines[count].split(\" \", 1)[1].rsplit(' ', 2)[0] + \"\\n\"\n",
    "        if count < 3:\n",
    "            Lines[count] = \"#\\n\"\n",
    "        count += 1\n",
    "    file = open(\"datasets/South-Building/new_ground_truth.txt\",'w')\n",
    "    file.writelines(Lines)"
   ]
  },
  {
   "cell_type": "markdown",
   "metadata": {},
   "source": [
    "### Check accuracy of pointcloud\n",
    "<a id='check_accuracy'></a>"
   ]
  },
  {
   "cell_type": "code",
   "execution_count": 10,
   "metadata": {},
   "outputs": [],
   "source": [
    "labels = {'[4, 200, 3]': 'tree',\n",
    "         '[180, 120, 120]': 'building',\n",
    "         '[255, 5, 153]': 'signboard',\n",
    "         '[255, 61, 6]': 'railing',\n",
    "         '[173, 0, 255]': 'ashbin',\n",
    "         '[235, 255, 7]': 'sidewalk',\n",
    "         '[0, 71, 255]': 'streetlight',\n",
    "         '[31, 0, 255]': 'stairway',\n",
    "         '[150, 5, 61]': 'person'}\n",
    "colors = {'tree': [4, 200, 3],\n",
    "         'building': [180, 120, 120],\n",
    "         'signboard': [255, 5, 153],\n",
    "         'railing': [255, 61, 6],\n",
    "         'ashbin': [173, 0, 255],\n",
    "         'sidewalk': [235, 255, 7],\n",
    "         'streetlight': [0, 71, 255],\n",
    "         'stairway': [31, 0, 255],\n",
    "         'person': [150, 5, 61]}\n",
    "\n",
    "# labels we consider identical\n",
    "pairs = [([4, 200, 3], [204, 255, 4]), # tree and plant\n",
    "        ([31, 0, 255], [255, 224, 0]), # stairway and stairs\n",
    "        ([255, 184, 6], [255, 61, 6])] # fence and railing\n",
    "def considered_identical(pair):\n",
    "    return pair in pairs or (pair[1], pair[0]) in pairs\n",
    "\n",
    "def check_against_ground_truth(points):\n",
    "    correct_classification = 0\n",
    "    incorrect_classification = 0\n",
    "\n",
    "    for point_id in points:\n",
    "        point = points[point_id]\n",
    "        pt_col = point.rgb\n",
    "        gt_col = list(color_dict[point_id])\n",
    "        if pt_col==gt_col or considered_identical((pt_col, gt_col)):\n",
    "            correct_classification += 1\n",
    "    \n",
    "    return correct_classification/len(points)\n",
    "\n",
    "def check_against_ground_truth_per_label(points):\n",
    "    from collections import namedtuple\n",
    "    label_dict = {} # pairs of number of correct and incorrect labeling per label\n",
    "    label_accuracy = {} # accuracy per label\n",
    "    for point_id in points:\n",
    "        point = points[point_id]\n",
    "        pt_col = point.rgb\n",
    "        gt_col = list(color_dict[point_id])\n",
    "        gt_col_str = str(gt_col)\n",
    "        if not gt_col_str in label_dict:\n",
    "            label_dict[gt_col_str] = (0, 0)\n",
    "        if pt_col==gt_col or considered_identical((pt_col, gt_col)):\n",
    "            label_dict[gt_col_str] = (label_dict[gt_col_str][0]+1, label_dict[gt_col_str][1])\n",
    "        else:\n",
    "            label_dict[gt_col_str] = (label_dict[gt_col_str][0], label_dict[gt_col_str][1]+1)\n",
    "    for color in label_dict:\n",
    "        correct, incorrect = label_dict[color]\n",
    "        label_accuracy[labels[color]] = correct / (correct + incorrect)\n",
    "    return label_accuracy"
   ]
  },
  {
   "cell_type": "markdown",
   "metadata": {},
   "source": [
    "Here we run the pointcloud segmentation for the first time without knn and check its accuracy."
   ]
  },
  {
   "cell_type": "code",
   "execution_count": 18,
   "metadata": {},
   "outputs": [
    {
     "name": "stdout",
     "output_type": "stream",
     "text": [
      "running knn with k=1\n",
      "creating segmented pointcloud...\n",
      "file 'South-Building_k1' written\n"
     ]
    }
   ],
   "source": [
    "points3D_segmented = knn(1)"
   ]
  },
  {
   "cell_type": "code",
   "execution_count": 21,
   "metadata": {},
   "outputs": [
    {
     "name": "stdout",
     "output_type": "stream",
     "text": [
      "Accuracy: 90%\n"
     ]
    }
   ],
   "source": [
    "print(f\"Accuracy: {int(round(check_against_ground_truth(points3D_segmented), 2)*100)}%\")"
   ]
  },
  {
   "cell_type": "markdown",
   "metadata": {},
   "source": [
    "We can also check the accuracy of each label."
   ]
  },
  {
   "cell_type": "code",
   "execution_count": 22,
   "metadata": {},
   "outputs": [
    {
     "name": "stdout",
     "output_type": "stream",
     "text": [
      "{'tree': 0.8072696534234995, 'building': 0.9729930721358957, 'signboard': 0.19594594594594594, 'railing': 0.12101910828025478, 'ashbin': 0.0, 'sidewalk': 0.6031331592689295, 'streetlight': 0.5063829787234042, 'stairway': 0.6606786427145709, 'person': 0.7916666666666666}\n"
     ]
    }
   ],
   "source": [
    "print(check_against_ground_truth_per_label(points3D_segmented))"
   ]
  },
  {
   "cell_type": "markdown",
   "metadata": {},
   "source": [
    "### Run evaluation on all relevant k values"
   ]
  },
  {
   "cell_type": "code",
   "execution_count": 23,
   "metadata": {},
   "outputs": [],
   "source": [
    "def run_evaluation(weight):\n",
    "    ks = [1, 2, 4, 8, 16, 32, 64, 128, 256]\n",
    "    #ks = [1, 2, 4, 8]\n",
    "    accuracies = []\n",
    "    for k in ks:\n",
    "        print(\"__________________________\")\n",
    "        points3D_segmented = knn(k, weight=weight, absolute=True)\n",
    "        accuracy = check_against_ground_truth(points3D_segmented)\n",
    "        accuracies.append(accuracy)\n",
    "        #print(f\"accuracy: {round(accuracy, 3)*100}%\")\n",
    "    return accuracies\n",
    "\n"
   ]
  },
  {
   "cell_type": "markdown",
   "metadata": {},
   "source": [
    "Run the evaluation on 9 different k-counts and get the accuracies for each (this should take about 10min)"
   ]
  },
  {
   "cell_type": "code",
   "execution_count": 24,
   "metadata": {},
   "outputs": [
    {
     "name": "stdout",
     "output_type": "stream",
     "text": [
      "__________________________\n",
      "running knn with k=1\n",
      "creating segmented pointcloud...\n",
      "file 'South-Building_k1' written\n",
      "__________________________\n",
      "running knn with k=2\n",
      "creating segmented pointcloud...\n",
      "file 'South-Building_k2' written\n",
      "__________________________\n",
      "running knn with k=4\n",
      "creating segmented pointcloud...\n",
      "file 'South-Building_k4' written\n",
      "__________________________\n",
      "running knn with k=8\n",
      "creating segmented pointcloud...\n",
      "file 'South-Building_k8' written\n",
      "__________________________\n",
      "running knn with k=16\n",
      "creating segmented pointcloud...\n",
      "file 'South-Building_k16' written\n",
      "__________________________\n",
      "running knn with k=32\n",
      "creating segmented pointcloud...\n",
      "file 'South-Building_k32' written\n",
      "__________________________\n",
      "running knn with k=64\n",
      "creating segmented pointcloud...\n",
      "file 'South-Building_k64' written\n",
      "__________________________\n",
      "running knn with k=128\n",
      "creating segmented pointcloud...\n",
      "file 'South-Building_k128' written\n",
      "__________________________\n",
      "running knn with k=256\n",
      "creating segmented pointcloud...\n",
      "file 'South-Building_k256' written\n"
     ]
    }
   ],
   "source": [
    "acc = run_evaluation(None)"
   ]
  },
  {
   "cell_type": "markdown",
   "metadata": {},
   "source": [
    "Don't run this. It takes too long"
   ]
  },
  {
   "cell_type": "code",
   "execution_count": 88,
   "metadata": {},
   "outputs": [
    {
     "name": "stdout",
     "output_type": "stream",
     "text": [
      "__________________________\n",
      "running knn with k=1\n",
      "creating segmented pointcloud...\n",
      "file 'South-Building_k2_euc' written\n",
      "__________________________\n",
      "running knn with k=2\n",
      "creating segmented pointcloud...\n",
      "file 'South-Building_k3_euc' written\n",
      "__________________________\n",
      "running knn with k=4\n",
      "creating segmented pointcloud...\n",
      "file 'South-Building_k5_euc' written\n",
      "__________________________\n",
      "running knn with k=8\n",
      "creating segmented pointcloud...\n",
      "file 'South-Building_k9_euc' written\n",
      "__________________________\n",
      "running knn with k=16\n",
      "creating segmented pointcloud...\n",
      "file 'South-Building_k17_euc' written\n",
      "__________________________\n",
      "running knn with k=32\n",
      "creating segmented pointcloud...\n",
      "file 'South-Building_k33_euc' written\n",
      "__________________________\n",
      "running knn with k=64\n",
      "creating segmented pointcloud...\n",
      "file 'South-Building_k65_euc' written\n",
      "__________________________\n",
      "running knn with k=128\n",
      "creating segmented pointcloud...\n",
      "file 'South-Building_k129_euc' written\n",
      "__________________________\n",
      "running knn with k=256\n",
      "creating segmented pointcloud...\n",
      "file 'South-Building_k257_euc' written\n",
      "[0.9102036424286445, 0.9131896806822156, 0.9173593737390041, 0.9199418933096603, 0.9250531299599172, 0.9264788959728836, 0.927985365722433, 0.9241653888575041, 0.915664595270761]\n",
      "__________________________\n",
      "running knn with k=1\n",
      "creating segmented pointcloud...\n",
      "file 'South-Building_k1_euc' written\n",
      "__________________________\n",
      "running knn with k=2\n",
      "creating segmented pointcloud...\n",
      "file 'South-Building_k2_euc' written\n",
      "__________________________\n",
      "running knn with k=4\n",
      "creating segmented pointcloud...\n",
      "file 'South-Building_k4_euc' written\n",
      "__________________________\n",
      "running knn with k=8\n",
      "creating segmented pointcloud...\n",
      "file 'South-Building_k8_euc' written\n",
      "__________________________\n",
      "running knn with k=16\n",
      "creating segmented pointcloud...\n",
      "file 'South-Building_k16_euc' written\n",
      "__________________________\n",
      "running knn with k=32\n",
      "creating segmented pointcloud...\n",
      "file 'South-Building_k32_euc' written\n",
      "__________________________\n",
      "running knn with k=64\n",
      "creating segmented pointcloud...\n",
      "file 'South-Building_k64_euc' written\n",
      "__________________________\n",
      "running knn with k=128\n",
      "creating segmented pointcloud...\n",
      "file 'South-Building_k128_euc' written\n",
      "__________________________\n",
      "running knn with k=256\n",
      "creating segmented pointcloud...\n",
      "file 'South-Building_k256_euc' written\n",
      "[0.9013800338955693, 0.9100691362010062, 0.9160412127081484, 0.9189465472251366, 0.9247303150135852, 0.9265057972184112, 0.9279584644769053, 0.9252414386786109, 0.9180319048771958]\n",
      "__________________________\n",
      "running knn with k=1\n",
      "creating segmented pointcloud...\n",
      "file 'South-Building_k1_euc' written\n",
      "__________________________\n",
      "running knn with k=2\n",
      "creating segmented pointcloud...\n",
      "file 'South-Building_k2_euc' written\n",
      "__________________________\n",
      "running knn with k=4\n",
      "creating segmented pointcloud...\n",
      "file 'South-Building_k4_euc' written\n",
      "__________________________\n",
      "running knn with k=8\n",
      "creating segmented pointcloud...\n",
      "file 'South-Building_k8_euc' written\n",
      "__________________________\n",
      "running knn with k=16\n",
      "creating segmented pointcloud...\n",
      "file 'South-Building_k16_euc' written\n",
      "__________________________\n",
      "running knn with k=32\n",
      "creating segmented pointcloud...\n",
      "file 'South-Building_k32_euc' written\n",
      "__________________________\n",
      "running knn with k=64\n",
      "creating segmented pointcloud...\n",
      "file 'South-Building_k64_euc' written\n",
      "__________________________\n",
      "running knn with k=128\n",
      "creating segmented pointcloud...\n",
      "file 'South-Building_k128_euc' written\n",
      "__________________________\n",
      "running knn with k=256\n",
      "creating segmented pointcloud...\n",
      "file 'South-Building_k256_euc' written\n",
      "[0.9013800338955693, 0.9101767411831168, 0.9159605089715653, 0.9191348559438302, 0.9249724262233341, 0.9266134022005219, 0.9283619831598203, 0.9248917224867511, 0.915180372851263]\n"
     ]
    }
   ],
   "source": [
    "weights = \"linear\", \"normal\", \"d_square\"\n",
    "\n",
    "for weight in weights:\n",
    "    acc = run_evaluation(weight)\n",
    "    print(acc)"
   ]
  },
  {
   "cell_type": "markdown",
   "metadata": {},
   "source": [
    "### Tests I ran in the past"
   ]
  },
  {
   "cell_type": "markdown",
   "metadata": {},
   "source": [
    "Ignore this"
   ]
  },
  {
   "cell_type": "code",
   "execution_count": 101,
   "metadata": {},
   "outputs": [
    {
     "name": "stdout",
     "output_type": "stream",
     "text": [
      "hello world\n"
     ]
    }
   ],
   "source": [
    "'''\n",
    "# without normalization\n",
    "accuracies_no_weight_no_normalization = [0.8277244236408146, 0.8374626745218303, 0.843085034837113, 0.8450488257606327, 0.8501600624108896, 0.8554327065343126, 0.8577193124041643, 0.8516665321604391, 0.8417937750517849]\n",
    "accuracies_linear_weitht_no_normalization = [0.8277244236408146, 0.8327011540634331, 0.8387539343071584, 0.8421703924891722, 0.8456944556532967, 0.8524466682807414, 0.8567239663196407, 0.8578538186318027, 0.8546256691684825]\n",
    "# with normalization\n",
    "accuracies_no_weight = [0.8277244236408146, 0.8385118230974095, 0.843085034837113, 0.8460172705996287, 0.8529846931912948, 0.857907621122858, 0.8596562020821564, 0.856212842654615, 0.8440265784305814]\n",
    "accuracies_linear_weight = [0.8277244236408146, 0.8309794743496624, 0.8354181798617276, 0.8412826513867592, 0.8470664191752079, 0.8540607430124014, 0.8584994485244667, 0.8597100045732118, 0.8564818551098916]\n",
    "# no sky and merging some labels\n",
    "accuracies = [0.9013800338955693, 0.9104995561294488, 0.915745299007344, 0.9187582385064429, 0.9247572162591128, 0.9261291797810238, 0.9277163532671563, 0.9196997820999112, 0.901406935141097]\n",
    "accuracies_weighted = [0.9013800338955693, 0.9041239609393915, 0.9091275926075377, 0.9141581255212117, 0.9198611895730773, 0.9248379199956958, 0.9270438221289645, 0.9273397358297689, 0.9206682269389073]\n",
    "accuracies_labels = [{'tree': 0.8072696534234995, 'building': 0.9729930721358957, 'signboard': 0.19594594594594594, 'railing': 0.12101910828025478, 'ashbin': 0.0, 'sidewalk': 0.6031331592689295, 'streetlight': 0.5063829787234042, 'stairway': 0.6606786427145709, 'person': 0.7916666666666666}, {'tree': 0.8285080304311073, 'building': 0.9766722768014404, 'signboard': 0.24324324324324326, 'railing': 0.07006369426751592, 'ashbin': 0.0, 'sidewalk': 0.6122715404699739, 'streetlight': 0.5957446808510638, 'stairway': 0.6846307385229541, 'person': 0.7083333333333334}, {'tree': 0.8402366863905325, 'building': 0.9805080433676465, 'signboard': 0.25675675675675674, 'railing': 0.05732484076433121, 'ashbin': 0.0, 'sidewalk': 0.6005221932114883, 'streetlight': 0.5872340425531914, 'stairway': 0.6766467065868264, 'person': 0.6666666666666666}, {'tree': 0.8556635672020287, 'building': 0.9809385885944656, 'signboard': 0.27702702702702703, 'railing': 0.01910828025477707, 'ashbin': 0.0, 'sidewalk': 0.5430809399477807, 'streetlight': 0.5531914893617021, 'stairway': 0.6986027944111777, 'person': 0.5}, {'tree': 0.8794378698224852, 'building': 0.9819953814239305, 'signboard': 0.3344594594594595, 'railing': 0.0, 'ashbin': 0.0, 'sidewalk': 0.4595300261096606, 'streetlight': 0.6212765957446809, 'stairway': 0.7065868263473054, 'person': 0.5416666666666666}, {'tree': 0.8872569737954353, 'building': 0.9836784218560414, 'signboard': 0.30405405405405406, 'railing': 0.0, 'ashbin': 0.0, 'sidewalk': 0.3681462140992167, 'streetlight': 0.7021276595744681, 'stairway': 0.720558882235529, 'person': 0.0}, {'tree': 0.900570583262891, 'building': 0.9831304552037262, 'signboard': 0.3108108108108108, 'railing': 0.0, 'ashbin': 0.0, 'sidewalk': 0.30678851174934724, 'streetlight': 0.7531914893617021, 'stairway': 0.6806387225548902, 'person': 0.0}, {'tree': 0.8877852916314455, 'building': 0.9848917765861678, 'signboard': 0.3108108108108108, 'railing': 0.0, 'ashbin': 0.0, 'sidewalk': 0.16318537859007834, 'streetlight': 0.3574468085106383, 'stairway': 0.6427145708582834, 'person': 0.0}, {'tree': 0.849323753169907, 'building': 0.9847352146855063, 'signboard': 0.0, 'railing': 0.0, 'ashbin': 0.0, 'sidewalk': 0.08224543080939947, 'streetlight': 0.0425531914893617, 'stairway': 0.4750499001996008, 'person': 0.0}]\n",
    "accuracies_labels_weighted = [{'tree': 0.8072696534234995, 'building': 0.9729930721358957, 'signboard': 0.19594594594594594, 'railing': 0.12101910828025478, 'ashbin': 0.0, 'sidewalk': 0.6031331592689295, 'streetlight': 0.5063829787234042, 'stairway': 0.6606786427145709, 'person': 0.7916666666666666}, {'tree': 0.8142434488588335, 'building': 0.9737758816392031, 'signboard': 0.20945945945945946, 'railing': 0.09554140127388536, 'ashbin': 0.0, 'sidewalk': 0.6148825065274152, 'streetlight': 0.5319148936170213, 'stairway': 0.6646706586826348, 'person': 0.75}, {'tree': 0.8265004226542688, 'building': 0.9759286077732984, 'signboard': 0.22972972972972974, 'railing': 0.08917197452229299, 'ashbin': 0.0, 'sidewalk': 0.6227154046997389, 'streetlight': 0.5531914893617021, 'stairway': 0.6666666666666666, 'person': 0.6666666666666666}, {'tree': 0.8387573964497042, 'building': 0.9784727386590473, 'signboard': 0.2635135135135135, 'railing': 0.05732484076433121, 'ashbin': 0.0, 'sidewalk': 0.6122715404699739, 'streetlight': 0.5446808510638298, 'stairway': 0.6846307385229541, 'person': 0.75}, {'tree': 0.8583051563820795, 'building': 0.9808994481193002, 'signboard': 0.27702702702702703, 'railing': 0.006369426751592357, 'ashbin': 0.0, 'sidewalk': 0.5652741514360313, 'streetlight': 0.5574468085106383, 'stairway': 0.6926147704590818, 'person': 0.6666666666666666}, {'tree': 0.8776415891800508, 'building': 0.9825433480762457, 'signboard': 0.2533783783783784, 'railing': 0.01910828025477707, 'ashbin': 0.0, 'sidewalk': 0.5, 'streetlight': 0.6382978723404256, 'stairway': 0.6966067864271457, 'person': 0.4166666666666667}, {'tree': 0.8881022823330516, 'building': 0.9832870171043876, 'signboard': 0.3108108108108108, 'railing': 0.0, 'ashbin': 0.0, 'sidewalk': 0.4386422976501306, 'streetlight': 0.6510638297872341, 'stairway': 0.7045908183632734, 'person': 0.0}, {'tree': 0.8967666948436179, 'building': 0.9838741242318682, 'signboard': 0.3108108108108108, 'railing': 0.0, 'ashbin': 0.0, 'sidewalk': 0.3785900783289817, 'streetlight': 0.5361702127659574, 'stairway': 0.6786427145708582, 'person': 0.0}, {'tree': 0.8891589180050719, 'building': 0.9850091980116639, 'signboard': 0.3108108108108108, 'railing': 0.0, 'ashbin': 0.0, 'sidewalk': 0.21279373368146215, 'streetlight': 0.33617021276595743, 'stairway': 0.6167664670658682, 'person': 0.0}]\n",
    "# absolute distances instead of max_dist is furthest neighbor\n",
    "accuracies_absolute_linear = [{'tree': 0.8279797125950972, 'building': 0.9765157149007789, 'signboard': 0.2533783783783784, 'railing': 0.09554140127388536, 'ashbin': 0.0, 'sidewalk': 0.6122715404699739, 'streetlight': 0.5617021276595745, 'stairway': 0.6826347305389222, 'person': 0.7083333333333334}, {'tree': 0.8354818258664413, 'building': 0.9783944577087166, 'signboard': 0.28040540540540543, 'railing': 0.05732484076433121, 'ashbin': 0.0, 'sidewalk': 0.6044386422976501, 'streetlight': 0.548936170212766, 'stairway': 0.6826347305389222, 'person': 0.6666666666666666}, {'tree': 0.8473161453930684, 'building': 0.9803123409918196, 'signboard': 0.28716216216216217, 'railing': 0.05732484076433121, 'ashbin': 0.0, 'sidewalk': 0.5822454308093995, 'streetlight': 0.574468085106383, 'stairway': 0.688622754491018, 'person': 0.6666666666666666}, {'tree': 0.8601014370245139, 'building': 0.981095150495127, 'signboard': 0.32094594594594594, 'railing': 0.03184713375796178, 'ashbin': 0.0, 'sidewalk': 0.5169712793733682, 'streetlight': 0.5574468085106383, 'stairway': 0.7045908183632734, 'person': 0.4583333333333333}, {'tree': 0.8777472527472527, 'building': 0.9825824885514111, 'signboard': 0.34121621621621623, 'railing': 0.006369426751592357, 'ashbin': 0.0, 'sidewalk': 0.47389033942558745, 'streetlight': 0.6127659574468085, 'stairway': 0.7125748502994012, 'person': 0.4166666666666667}, {'tree': 0.8852493660185968, 'building': 0.9844220908841833, 'signboard': 0.3108108108108108, 'railing': 0.0, 'ashbin': 0.0, 'sidewalk': 0.4073107049608355, 'streetlight': 0.6340425531914894, 'stairway': 0.7145708582834331, 'person': 0.0}, {'tree': 0.8956043956043956, 'building': 0.9850874789619946, 'signboard': 0.3108108108108108, 'railing': 0.0, 'ashbin': 0.0, 'sidewalk': 0.3772845953002611, 'streetlight': 0.5617021276595745, 'stairway': 0.6766467065868264, 'person': 0.0}, {'tree': 0.8924344885883347, 'building': 0.9863008336921211, 'signboard': 0.3108108108108108, 'railing': 0.0, 'ashbin': 0.0, 'sidewalk': 0.33159268929503916, 'streetlight': 0.2, 'stairway': 0.6307385229540918, 'person': 0.0}, {'tree': 0.867603550295858, 'building': 0.9867705193941054, 'signboard': 0.12837837837837837, 'railing': 0.0, 'ashbin': 0.0, 'sidewalk': 0.32114882506527415, 'streetlight': 0.20851063829787234, 'stairway': 0.564870259481038, 'person': 0.0}]\n",
    "accuracies_absolute_linear = [0.9102036424286445, 0.9131896806822156, 0.9173593737390041, 0.9199418933096603, 0.9250531299599172, 0.9264788959728836, 0.927985365722433, 0.9241653888575041, 0.915664595270761]\n",
    "accuracies_absolute_normal = [0.9013800338955693, 0.9100691362010062, 0.9160412127081484, 0.9189465472251366, 0.9247303150135852, 0.9265057972184112, 0.9279584644769053, 0.9252414386786109, 0.9180319048771958]\n",
    "accuracies_absolute_d_square = [0.9013800338955693, 0.9101767411831168, 0.9159605089715653, 0.9191348559438302, 0.9249724262233341, 0.9266134022005219, 0.9283619831598203, 0.9248917224867511, 0.915180372851263]\n",
    "'''"
   ]
  },
  {
   "cell_type": "code",
   "execution_count": null,
   "metadata": {},
   "outputs": [],
   "source": [
    "'''\n",
    "# giving it a structure I can plot\n",
    "k_runs_per_label = {}\n",
    "for k_run in accuracies_labels_weighted:\n",
    "    for label, accuracy in k_run.items():\n",
    "        if label in k_runs_per_label:\n",
    "            k_runs_per_label[label] += [accuracy]\n",
    "        else:\n",
    "            k_runs_per_label[label] = [accuracy]\n",
    "print(k_runs_per_label)\n",
    "'''"
   ]
  },
  {
   "cell_type": "markdown",
   "metadata": {},
   "source": [
    "### Graph Visualization"
   ]
  },
  {
   "cell_type": "markdown",
   "metadata": {},
   "source": [
    "Run this code to visualize the the accuracy of the algorithm"
   ]
  },
  {
   "cell_type": "code",
   "execution_count": 25,
   "metadata": {},
   "outputs": [
    {
     "name": "stderr",
     "output_type": "stream",
     "text": [
      "/tmp/ipykernel_38456/1355215899.py:23: UserWarning: FixedFormatter should only be used together with FixedLocator\n",
      "  plt.gca().set_yticklabels([f'{x:.0%}' for x in plt.gca().get_yticks()])\n"
     ]
    }
   ],
   "source": [
    "import matplotlib\n",
    "title = 'KNN Algorithm'\n",
    "matplotlib.use('Agg')\n",
    "import matplotlib.pyplot as plt\n",
    "from matplotlib.ticker import MultipleLocator, FuncFormatter\n",
    "plt.clf()\n",
    "\n",
    "ind = range(9)\n",
    "width = 0.9   # the width of the bars: can also be len(x) sequence\n",
    "\n",
    "# Add `aling='center'` to center bars on ticks\n",
    "#for label, accuracies in k_runs_per_label.items():\n",
    "#    p1 = plt.plot(ind, accuracies, label=label, color=[i/255 for i in colors[label]])\n",
    "plt.plot(ind, acc, label=\"Regular KNN\")\n",
    "#plt.plot(ind, accuracies_weighted, label=\"Linear Weighted KNN\")\n",
    "plt.legend()\n",
    "plt.xlabel('k-Count')\n",
    "plt.ylabel('Accuracy')\n",
    "#plt.title(title)\n",
    "#plt.axis([0, len(data), -1, max(data)])\n",
    "\n",
    "ax = plt.gca()\n",
    "plt.gca().set_yticklabels([f'{x:.0%}' for x in plt.gca().get_yticks()]) \n",
    "\n",
    "\n",
    "# Place tickmarks at every multiple of 1, i.e. at any integer\n",
    "ax.xaxis.set_major_locator(MultipleLocator(1))\n",
    "# Format the ticklabel to be 2 raised to the power of `x`\n",
    "ax.xaxis.set_major_formatter(FuncFormatter(lambda x, pos: int(2**x)))\n",
    "# Make the axis labels rotated for easier reading\n",
    "plt.gcf().autofmt_xdate()\n",
    "\n",
    "ax.spines['right'].set_visible(False)\n",
    "ax.spines['top'].set_visible(False)\n",
    "ax.spines['left'].set_visible(False)\n",
    "ax.spines['bottom'].set_visible(False)\n",
    "\n",
    "'''\n",
    "# Shrink current axis by 20%\n",
    "box = ax.get_position()\n",
    "ax.set_position([box.x0, box.y0, box.width * 0.8, box.height])\n",
    "\n",
    "# Put a legend to the right of the current axis\n",
    "ax.legend(loc='center left', bbox_to_anchor=(1, 0.5))\n",
    "'''\n",
    "\n",
    "\n",
    "plt.savefig(title+\".svg\")"
   ]
  },
  {
   "cell_type": "markdown",
   "metadata": {},
   "source": [
    "### Table Visualization"
   ]
  },
  {
   "cell_type": "markdown",
   "metadata": {},
   "source": [
    "Plot a wonderfully colorful table"
   ]
  },
  {
   "cell_type": "code",
   "execution_count": 26,
   "metadata": {},
   "outputs": [],
   "source": [
    "accuracies_labels = [{'tree': 0.8072696534234995, 'building': 0.9729930721358957, 'signboard': 0.19594594594594594, 'railing': 0.12101910828025478, 'ashbin': 0.0, 'sidewalk': 0.6031331592689295, 'streetlight': 0.5063829787234042, 'stairway': 0.6606786427145709, 'person': 0.7916666666666666}, {'tree': 0.8285080304311073, 'building': 0.9766722768014404, 'signboard': 0.24324324324324326, 'railing': 0.07006369426751592, 'ashbin': 0.0, 'sidewalk': 0.6122715404699739, 'streetlight': 0.5957446808510638, 'stairway': 0.6846307385229541, 'person': 0.7083333333333334}, {'tree': 0.8402366863905325, 'building': 0.9805080433676465, 'signboard': 0.25675675675675674, 'railing': 0.05732484076433121, 'ashbin': 0.0, 'sidewalk': 0.6005221932114883, 'streetlight': 0.5872340425531914, 'stairway': 0.6766467065868264, 'person': 0.6666666666666666}, {'tree': 0.8556635672020287, 'building': 0.9809385885944656, 'signboard': 0.27702702702702703, 'railing': 0.01910828025477707, 'ashbin': 0.0, 'sidewalk': 0.5430809399477807, 'streetlight': 0.5531914893617021, 'stairway': 0.6986027944111777, 'person': 0.5}, {'tree': 0.8794378698224852, 'building': 0.9819953814239305, 'signboard': 0.3344594594594595, 'railing': 0.0, 'ashbin': 0.0, 'sidewalk': 0.4595300261096606, 'streetlight': 0.6212765957446809, 'stairway': 0.7065868263473054, 'person': 0.5416666666666666}, {'tree': 0.8872569737954353, 'building': 0.9836784218560414, 'signboard': 0.30405405405405406, 'railing': 0.0, 'ashbin': 0.0, 'sidewalk': 0.3681462140992167, 'streetlight': 0.7021276595744681, 'stairway': 0.720558882235529, 'person': 0.0}, {'tree': 0.900570583262891, 'building': 0.9831304552037262, 'signboard': 0.3108108108108108, 'railing': 0.0, 'ashbin': 0.0, 'sidewalk': 0.30678851174934724, 'streetlight': 0.7531914893617021, 'stairway': 0.6806387225548902, 'person': 0.0}, {'tree': 0.8877852916314455, 'building': 0.9848917765861678, 'signboard': 0.3108108108108108, 'railing': 0.0, 'ashbin': 0.0, 'sidewalk': 0.16318537859007834, 'streetlight': 0.3574468085106383, 'stairway': 0.6427145708582834, 'person': 0.0}, {'tree': 0.849323753169907, 'building': 0.9847352146855063, 'signboard': 0.0, 'railing': 0.0, 'ashbin': 0.0, 'sidewalk': 0.08224543080939947, 'streetlight': 0.0425531914893617, 'stairway': 0.4750499001996008, 'person': 0.0}]\n",
    "k_runs_per_label = {}\n",
    "for k_run in accuracies_labels:\n",
    "    for label, accuracy in k_run.items():\n",
    "        if label in k_runs_per_label:\n",
    "            k_runs_per_label[label] += [accuracy]\n",
    "        else:\n",
    "            k_runs_per_label[label] = [accuracy]"
   ]
  },
  {
   "cell_type": "code",
   "execution_count": 27,
   "metadata": {},
   "outputs": [],
   "source": [
    "import numpy as np\n",
    "import matplotlib\n",
    "import matplotlib.pyplot as plt\n",
    "plt.clf()\n",
    "\n",
    "list_2D = []\n",
    "labels = []\n",
    "\n",
    "for label, accuracies in k_runs_per_label.items():\n",
    "    list_2D.append(accuracies)\n",
    "    labels.append(label)\n",
    "\n",
    "list_2D = list(reversed(list_2D))\n",
    "labels = list(reversed(labels))\n",
    "\n",
    "accuracies = np.array(list_2D)\n",
    "\n",
    "fig, ax = plt.subplots()\n",
    "\n",
    "fig.tight_layout()\n",
    "# remove x ticks\n",
    "#plt.tick_params(axis='x', which='both', bottom=False, top=False, labelbottom=False)\n",
    "plt.xlabel('k-Count')\n",
    "#plt.ylabel('Label')\n",
    "\n",
    "plt.pcolormesh(accuracies, cmap=plt.get_cmap(\"RdYlGn\"), edgecolors='k', linewidth=1)\n",
    "ax = plt.gca()\n",
    "ax.set_aspect('equal')\n",
    "\n",
    "color_dict = {0: 'normal', 1: 'high', 2: 'very\\nhigh'}\n",
    "for i in range(accuracies.shape[0]):\n",
    "    for j in range(accuracies.shape[1]):\n",
    "        plt.text(j+.5, i+.5, str(int(round(accuracies[i, j], 2)*100))+\"%\", ha=\"center\", va=\"center\", fontsize=8)\n",
    "\n",
    "\n",
    "plt.yticks(list([x+.5 for x in range(len(labels))]), labels, fontsize=8)\n",
    "plt.xticks(list([y+.5 for y in range(9)]), [1, 2, 4, 8, 16, 32, 64, 128, 256], fontsize=8)\n",
    "\n",
    "\n",
    "\n",
    "\n",
    "plt.tight_layout()\n",
    "plt.savefig(\"knn_table.svg\", bbox_inches='tight')"
   ]
  },
  {
   "cell_type": "markdown",
   "metadata": {},
   "source": [
    "## Visualizing Different KNN weights"
   ]
  },
  {
   "cell_type": "code",
   "execution_count": 107,
   "metadata": {},
   "outputs": [],
   "source": [
    "import numpy as np\n",
    "import matplotlib.pyplot as plt\n",
    "from scipy.stats import norm\n",
    "plt.clf()\n",
    "\n",
    "k=50\n",
    "# Plot between -10 and 10 with .001 steps.\n",
    "x_axis = np.arange(1, k+1, 1)\n",
    "# Mean = 0, SD = 2.\n",
    "plt.plot(x_axis, [1]*k, label=\"no weight\")\n",
    "plt.plot(x_axis, np.flip(x_axis/k), label=\"linear\")\n",
    "plt.plot(x_axis, norm.pdf(x_axis,0,k*0.4)*k, label=\"normal\")\n",
    "y_axis = [1/(1+d**2) for d in x_axis]\n",
    "y_axis[0] = 1\n",
    "plt.plot(x_axis, y_axis, label=\"1/(1+d²)\")\n",
    "y_axis = [1/(1+d) for d in x_axis]\n",
    "y_axis[0] = 1\n",
    "plt.plot(x_axis, y_axis, label=\"1/(1+d)\")\n",
    "plt.plot(x_axis, [1-d for d in (x_axis/k)**2], label=\"1-d²\")\n",
    "plt.plot(x_axis, [1-d for d in (x_axis/k)**3], label=\"1-d³\")\n",
    "plt.ylim(ymin=0)\n",
    "\n",
    "plt.legend()\n",
    "plt.xlabel('distance')\n",
    "plt.ylabel('weight')\n",
    "\n",
    "#plt.xticks(x_axis, list([x+1 for x in x_axis]))\n",
    "\n",
    "plt.savefig(\"weights.png\", bbox_inches='tight', dpi=200)"
   ]
  },
  {
   "cell_type": "markdown",
   "metadata": {},
   "source": [
    "## Backprojection"
   ]
  },
  {
   "cell_type": "code",
   "execution_count": null,
   "metadata": {},
   "outputs": [],
   "source": [
    "labels = {'[4, 200, 3]': 'tree',\n",
    "         '[180, 120, 120]': 'building',\n",
    "         '[255, 5, 153]': 'signboard',\n",
    "         '[255, 61, 6]': 'railing',\n",
    "         '[173, 0, 255]': 'ashbin',\n",
    "         '[235, 255, 7]': 'sidewalk',\n",
    "         '[0, 71, 255]': 'streetlight',\n",
    "         '[31, 0, 255]': 'stairway',\n",
    "         '[150, 5, 61]': 'person'}\n",
    "colors = {'tree': [4, 200, 3],\n",
    "         'building': [180, 120, 120],\n",
    "         'signboard': [255, 5, 153],\n",
    "         'railing': [255, 61, 6],\n",
    "         'ashbin': [173, 0, 255],\n",
    "         'sidewalk': [235, 255, 7],\n",
    "         'streetlight': [0, 71, 255],\n",
    "         'stairway': [31, 0, 255],\n",
    "         'person': [150, 5, 61]}\n",
    "\n",
    "\n",
    "# labels we consider identical\n",
    "pairs = [([4, 200, 3], [204, 255, 4]), # tree and plant\n",
    "        ([31, 0, 255], [255, 224, 0]), # stairway and stairs\n",
    "        ([255, 184, 6], [255, 61, 6])] # fence and railing\n",
    "def considered_identical(pair):\n",
    "    return pair in pairs or (pair[1], pair[0]) in pairs\n",
    "\n",
    "def return_label(x):\n",
    "    if x==[4,200,3]:\n",
    "        return 'Tree'\n",
    "    elif x==[180,120,120]:\n",
    "        return 'Building'\n",
    "    elif x==[255,5,153]:\n",
    "        return 'Signboard'\n",
    "    elif x==[255,61,6]:\n",
    "        return 'Railing'\n",
    "    elif x== [173, 0, 255]:\n",
    "        return 'Trash Bin'\n",
    "    elif x==[235, 255, 7]:\n",
    "        return 'Sidewalk'\n",
    "    elif x==[0,71,255]:\n",
    "        return 'Streetlight'\n",
    "    elif x==[31,0,255]:\n",
    "        return 'Stairway'\n",
    "    elif x==[150,5,61]:\n",
    "        return 'Person'\n",
    "    elif x== [204, 255, 4]:\n",
    "        return 'Tree'\n",
    "    elif x== [255,244,0]:\n",
    "        return 'Stairway'\n",
    "    elif x== [255,184,6]:\n",
    "        return 'Stairway'\n",
    "    else:\n",
    "        return 'None'\n",
    "\n",
    "\n",
    "def obtain_labels(points):\n",
    "    pred = []\n",
    "    gt = []\n",
    "\n",
    "    for point_id in points:\n",
    "        point = points[point_id]\n",
    "        pt_col = point.rgb\n",
    "        gt_col = list(color_dict[point_id])\n",
    "        pred.append(return_label(pt_col))\n",
    "        gt.append(return_label(gt_col))\n",
    "    return pred, gt\n",
    "\n",
    "\n",
    "def check_against_ground_truth_per_label_images(images):\n",
    "    mask_colors = [[0, 0, 0], [120, 120, 120], [180, 120, 120], [6, 230, 230], [80, 50, 50],\\\n",
    "         [4, 200, 3], [120, 120, 80], [140, 140, 140], [204, 5, 255], [230, 230, 230], [4, 250, 7],\\\n",
    "             [224, 5, 255], [235, 255, 7], [150, 5, 61], [120, 120, 70], [8, 255, 51], [255, 6, 82],\\\n",
    "                 [143, 255, 140], [204, 255, 4], [255, 51, 7], [204, 70, 3], [0, 102, 200], [61, 230, 250],\\\n",
    "                     [255, 6, 51], [11, 102, 255], [255, 7, 71], [255, 9, 224], [9, 7, 230], [220, 220, 220], \\\n",
    "                        [255, 9, 92], [112, 9, 255], [8, 255, 214], [7, 255, 224], [255, 184, 6], [10, 255, 71],\\\n",
    "                             [255, 41, 10], [7, 255, 255], [224, 255, 8], [102, 8, 255], [255, 61, 6], [255, 194, 7],\\\n",
    "                                 [255, 122, 8], [0, 255, 20], [255, 8, 41], [255, 5, 153], [6, 51, 255], [235, 12, 255], \\\n",
    "                                    [160, 150, 20], [0, 163, 255], [140, 140, 140], [250, 10, 15], [20, 255, 0], [31, 255, 0],\\\n",
    "                                         [255, 31, 0], [255, 224, 0], [153, 255, 0], [0, 0, 255], [255, 71, 0], [0, 235, 255], \\\n",
    "                                            [0, 173, 255], [31, 0, 255], [11, 200, 200], [255, 82, 0], [0, 255, 245], [0, 61, 255],\\\n",
    "                                                 [0, 255, 112], [0, 255, 133], [255, 0, 0], [255, 163, 0], [255, 102, 0], [194, 255, 0], [0, 143, 255], [51, 255, 0], [0, 82, 255], [0, 255, 41], [0, 255, 173], [10, 0, 255], [173, 255, 0], [0, 255, 153], [255, 92, 0], [255, 0, 255], [255, 0, 245], [255, 0, 102], [255, 173, 0], [255, 0, 20], [255, 184, 184], [0, 31, 255], [0, 255, 61], [0, 71, 255], [255, 0, 204], [0, 255, 194], [0, 255, 82], [0, 10, 255], [0, 112, 255], [51, 0, 255], [0, 194, 255], [0, 122, 255], [0, 255, 163], [255, 153, 0], [0, 255, 10], [255, 112, 0], [143, 255, 0], [82, 0, 255], [163, 255, 0], [255, 235, 0], [8, 184, 170], [133, 0, 255], [0, 255, 92], [184, 0, 255], [255, 0, 31], [0, 184, 255], [0, 214, 255], [255, 0, 112], [92, 255, 0], [0, 224, 255], [112, 224, 255], [70, 184, 160], [163, 0, 255], [153, 0, 255], [71, 255, 0], [255, 0, 163], [255, 204, 0], [255, 0, 143], [0, 255, 235], [133, 255, 0], [255, 0, 235], [245, 0, 255], [255, 0, 122], [255, 245, 0], [10, 190, 212], [214, 255, 0], [0, 204, 255], [20, 0, 255], [255, 255, 0], [0, 153, 255], [0, 41, 255], [0, 255, 204], [41, 0, 255], [41, 255, 0], [173, 0, 255], [0, 245, 255], [71, 0, 255], [122, 0, 255], [0, 255, 184], [0, 92, 255], [184, 255, 0], [0, 133, 255], [255, 214, 0], [25, 194, 194], [102, 255, 0], [92, 0, 255]]\n",
    "    preds= []\n",
    "    gt = []\n",
    "    for image_id in images:\n",
    "        image = images[image_id]\n",
    "        xys = image.xys\n",
    "        point3D_ids = image.point3D_ids\n",
    "        data = None\n",
    "        with open(masks_path/Path(image.name.replace(\".JPG\", \".pkl\")), 'rb') as f:\n",
    "            data = pickle.load(f)[0]\n",
    "    \n",
    "        for i, point2D in enumerate(image.xys):\n",
    "            # get certainties\n",
    "            pkl_x, pkl_y = get_pkl_coordinates((int(point2D[1]), int(point2D[0])))\n",
    "            certainties_raw = data[pkl_x][pkl_y]\n",
    "            certainties_raw[3] = min(certainties_raw)\n",
    "            mask_color = np.argmax(certainties_raw)\n",
    "            rgb = mask_colors[mask_color]\n",
    "            try:\n",
    "                preds.append(return_label(rgb))\n",
    "                true_color = color_dict[image.point3D_ids[i]]\n",
    "                true_color = list(true_color)\n",
    "                gt.append(return_label(true_color))\n",
    "            except:\n",
    "                pass\n",
    "        return preds, gt\n",
    "\n",
    "def get_per_class(gt, preds):\n",
    "    labels = list(set(gt+preds))\n",
    "    acc = {}\n",
    "    tot_labels = {}\n",
    "    corr_labels = {}\n",
    "    for label in labels:\n",
    "        total_labels = len([x for x in gt if x==label])\n",
    "        tot_labels[label] = total_labels\n",
    "        correct_labels = len([x for x,y in zip(gt, preds) if x==label and y==label])\n",
    "        corr_labels[label] = correct_labels\n",
    "        if total_labels!=0:\n",
    "            acc[label] = correct_labels/total_labels*100\n",
    "        else:\n",
    "            acc[label] = None\n",
    "    return acc, corr_labels, tot_labels"
   ]
  }
 ],
 "metadata": {
  "kernelspec": {
   "display_name": "Python 3 (ipykernel)",
   "language": "python",
   "name": "python3"
  },
  "language_info": {
   "codemirror_mode": {
    "name": "ipython",
    "version": 3
   },
   "file_extension": ".py",
   "mimetype": "text/x-python",
   "name": "python",
   "nbconvert_exporter": "python",
   "pygments_lexer": "ipython3",
   "version": "3.9.7"
  }
 },
 "nbformat": 4,
 "nbformat_minor": 4
}
